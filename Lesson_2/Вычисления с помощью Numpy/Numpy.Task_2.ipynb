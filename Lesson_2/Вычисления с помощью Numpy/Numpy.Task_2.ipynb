{
 "cells": [
  {
   "cell_type": "markdown",
   "metadata": {},
   "source": [
    "## Тема “Вычисления с помощью Numpy”\n",
    "### Задание 2 \n",
    "\n",
    "Вычислите массив a_centered, отняв от значений массива “а” средние значения соответствующих \n",
    "признаков, содержащиеся в массиве mean_a. Вычисление должно производиться в одно действие. \n",
    "Получившийся массив должен иметь размер 5x2."
   ]
  },
  {
   "cell_type": "code",
   "execution_count": 1,
   "metadata": {},
   "outputs": [
    {
     "data": {
      "text/plain": [
       "array([[ -1.2, -16.6],\n",
       "       [ -0.2, -14.6],\n",
       "       [  0.8, -11.6],\n",
       "       [  1.8, -12.6],\n",
       "       [ -1.2,  55.4]])"
      ]
     },
     "execution_count": 1,
     "metadata": {},
     "output_type": "execute_result"
    }
   ],
   "source": [
    "import numpy as np\n",
    "a = np.array([[1, 6],\n",
    "              [2, 8],\n",
    "              [3, 11],\n",
    "              [4, 10],\n",
    "              [1, 78]])\n",
    "mean_a = a.mean(axis = 0)\n",
    "a_centered = a - mean_a\n",
    "a_centered"
   ]
  }
 ],
 "metadata": {
  "kernelspec": {
   "display_name": "Python 3",
   "language": "python",
   "name": "python3"
  },
  "language_info": {
   "codemirror_mode": {
    "name": "ipython",
    "version": 3
   },
   "file_extension": ".py",
   "mimetype": "text/x-python",
   "name": "python",
   "nbconvert_exporter": "python",
   "pygments_lexer": "ipython3",
   "version": "3.7.6"
  }
 },
 "nbformat": 4,
 "nbformat_minor": 4
}
