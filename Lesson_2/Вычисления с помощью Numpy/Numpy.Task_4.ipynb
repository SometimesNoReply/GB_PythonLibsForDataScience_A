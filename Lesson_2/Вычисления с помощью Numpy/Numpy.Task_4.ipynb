{
 "cells": [
  {
   "cell_type": "markdown",
   "metadata": {},
   "source": [
    "## Тема “Вычисления с помощью Numpy”\n",
    "### Задание 4**\n",
    "\n",
    "В этом задании проверьте получившееся число, вычислив ковариацию еще одним способом - с \n",
    "помощью функции np.cov. В качестве аргумента m функция np.cov должна принимать \n",
    "транспонированный массив “a”. В получившейся ковариационной матрице (массив Numpy размером \n",
    "2x2) искомое значение ковариации будет равно элементу в строке с индексом 0 и столбце с индексом \n",
    "1. "
   ]
  },
  {
   "cell_type": "code",
   "execution_count": 1,
   "metadata": {},
   "outputs": [
    {
     "data": {
      "text/plain": [
       "-18.9"
      ]
     },
     "execution_count": 1,
     "metadata": {},
     "output_type": "execute_result"
    }
   ],
   "source": [
    "import numpy as np\n",
    "a = np.array([[1, 6],\n",
    "              [2, 8],\n",
    "              [3, 11],\n",
    "              [4, 10],\n",
    "              [1, 78]])\n",
    "mean_a = a.mean(axis = 0)\n",
    "a_centered = a - mean_a\n",
    "a_centered_sp = a_centered[:, 0] @ a_centered[:, 1]\n",
    "a_centered_sp / (a.shape[0] -1)"
   ]
  },
  {
   "cell_type": "code",
   "execution_count": 2,
   "metadata": {},
   "outputs": [
    {
     "data": {
      "text/plain": [
       "array([[  1.7, -18.9],\n",
       "       [-18.9, 962.8]])"
      ]
     },
     "execution_count": 2,
     "metadata": {},
     "output_type": "execute_result"
    }
   ],
   "source": [
    "np.cov(a.transpose())"
   ]
  },
  {
   "cell_type": "code",
   "execution_count": 3,
   "metadata": {},
   "outputs": [
    {
     "data": {
      "text/plain": [
       "True"
      ]
     },
     "execution_count": 3,
     "metadata": {},
     "output_type": "execute_result"
    }
   ],
   "source": [
    "a_centered_sp / (a.shape[0] -1) == np.cov(a.transpose())[0,1]"
   ]
  }
 ],
 "metadata": {
  "kernelspec": {
   "display_name": "Python 3",
   "language": "python",
   "name": "python3"
  },
  "language_info": {
   "codemirror_mode": {
    "name": "ipython",
    "version": 3
   },
   "file_extension": ".py",
   "mimetype": "text/x-python",
   "name": "python",
   "nbconvert_exporter": "python",
   "pygments_lexer": "ipython3",
   "version": "3.7.6"
  }
 },
 "nbformat": 4,
 "nbformat_minor": 4
}
